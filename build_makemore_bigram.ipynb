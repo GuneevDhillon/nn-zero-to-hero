{
 "cells": [
  {
   "cell_type": "code",
   "execution_count": null,
   "id": "a7bb89b9-12c6-45cb-a5f5-a557f727ffe0",
   "metadata": {},
   "outputs": [],
   "source": [
    "import torch\n",
    "import matplotlib.pyplot as plt"
   ]
  },
  {
   "cell_type": "code",
   "execution_count": null,
   "id": "eed92976-974f-4312-87b3-b7d71f50ee70",
   "metadata": {},
   "outputs": [],
   "source": [
    "words = open('names.txt', 'r').read().splitlines()"
   ]
  },
  {
   "cell_type": "code",
   "execution_count": null,
   "id": "0fada7b6-5f06-46ea-995c-d5a419b342bd",
   "metadata": {},
   "outputs": [],
   "source": [
    "words[:10]"
   ]
  },
  {
   "cell_type": "code",
   "execution_count": null,
   "id": "065a4541-e009-4f86-8b32-68929ef30f8b",
   "metadata": {},
   "outputs": [],
   "source": [
    "len(words)"
   ]
  },
  {
   "cell_type": "code",
   "execution_count": null,
   "id": "05f0fb11-7d4a-48f5-a4c2-6a6e8c471f64",
   "metadata": {},
   "outputs": [],
   "source": [
    "sorted(b.items(), key = lambda kv: -kv[1]) # sort be by biggest second key element in the tuples"
   ]
  },
  {
   "cell_type": "code",
   "execution_count": null,
   "id": "49dac1ac-173f-4c91-a114-72112e5731f2",
   "metadata": {
    "scrolled": true
   },
   "outputs": [],
   "source": [
    "N = torch.zeros((27, 27), dtype = torch.int32) #28-by-28 (letters plus special start/end) matrix that will store the number of times a bigram appears\n"
   ]
  },
  {
   "cell_type": "code",
   "execution_count": null,
   "id": "08b3b187-7ba2-4551-941d-ec92409e3f82",
   "metadata": {},
   "outputs": [],
   "source": [
    "chars = sorted(list(set(''.join(words)))) #list of chars from a-z\n",
    "stoi = {s:i+1 for i,s in enumerate(chars)} #each char matched to an integer\n",
    "stoi['.'] = 0 #add index for all special chars\n",
    "itos = {i:s for s, i in stoi.items()} # display index first, then char\n",
    "stoi"
   ]
  },
  {
   "cell_type": "code",
   "execution_count": null,
   "id": "5a31d1bd-cbb9-4c3b-a97f-2a497f01bff8",
   "metadata": {},
   "outputs": [],
   "source": [
    "#Nice image of N matrix\n",
    "\n",
    "%matplotlib inline\n",
    "\n",
    "plt.figure(figsize=(16,16))\n",
    "plt.imshow(N, cmap='Blues')\n",
    "for i in range(27):\n",
    "    for j in range(27):\n",
    "        chstr = itos[i] + itos[j]\n",
    "        plt.text(j, i, chstr, ha=\"center\", va=\"bottom\", color='gray')\n",
    "        plt.text(j, i, N[i, j].item(), ha=\"center\", va=\"top\", color='gray')\n",
    "plt.axis('off');"
   ]
  },
  {
   "cell_type": "code",
   "execution_count": null,
   "id": "7b44731a-82ed-45cb-b0a8-6c8fd5ebc1aa",
   "metadata": {},
   "outputs": [],
   "source": [
    "#Probability distributiion\n",
    "\n",
    "P = (N+1).float() \n",
    "P /= P.sum(1, keepdim = True) #normalize the values of the row so they are the probability of each letter appearing first in a word"
   ]
  },
  {
   "cell_type": "code",
   "execution_count": 313,
   "id": "bf0cc9de-af11-4684-80e7-ad5661accae2",
   "metadata": {},
   "outputs": [
    {
     "name": "stdout",
     "output_type": "stream",
     "text": [
      "cexze.\n",
      "momasurailezitynn.\n",
      "konimittain.\n",
      "llayn.\n",
      "ka.\n",
      "da.\n",
      "staiyaubrtthrigotai.\n",
      "moliellavo.\n",
      "ke.\n",
      "teda.\n"
     ]
    }
   ],
   "source": [
    "g = torch.Generator().manual_seed(2147483647)\n",
    "\n",
    "for i in range(10):\n",
    "    \n",
    "    out = []\n",
    "    ix = 0\n",
    "    while True:\n",
    "        p = P[ix]\n",
    "        ix = torch.multinomial(p, num_samples = 1, replacement = True, generator = g).item()\n",
    "        out.append(itos[ix])\n",
    "        if ix == 0:\n",
    "            break\n",
    "    print(''.join(out))"
   ]
  },
  {
   "cell_type": "code",
   "execution_count": 351,
   "id": "7ab34354-f4a6-416d-9ad6-74f9f2e6bd4c",
   "metadata": {},
   "outputs": [
    {
     "name": "stdout",
     "output_type": "stream",
     "text": [
      "2.4543561935424805\n"
     ]
    }
   ],
   "source": [
    "#Bigram (sequence of two consecutive chars)\n",
    "\n",
    "log_likelihood = 0\n",
    "n = 0\n",
    "for w in words:\n",
    "    chs = ['.'] + list(w) + ['.'] #new character list starting with 'special start' and ending in 'special end'\n",
    "    for ch1, ch2 in zip(chs, chs[1:]): #pair the first char of chs with second char, then second char with the third char and so on\n",
    "        ix1 = stoi[ch1] #find the row of the first char\n",
    "        ix2 = stoi[ch2] #find the column of the second char\n",
    "        prob = P[ix1, ix2]\n",
    "        logprob = torch.log(prob) #convert prob to log(prob) for better numbers to work with. Also: log(a*b*c) = log(a) + log(b) + log(c)\n",
    "        log_likelihood += logprob\n",
    "        n+=1\n",
    "        #print(f'{ch1}{ch2}: {logprob: .4f}')\n",
    "\n",
    "nll = -log_likelihood #we need to have smaller number be better for the loss function\n",
    "print(f'{nll/n}')"
   ]
  },
  {
   "cell_type": "code",
   "execution_count": null,
   "id": "d53679d8-b026-4c46-9b72-6e45541db7dd",
   "metadata": {},
   "outputs": [],
   "source": [
    "#create training set of all the bigrams\n",
    "\n",
    "xs, ys = [], [] #example input, desired output\n",
    "\n",
    "for w in words[:1]:\n",
    "    chs = ['.'] + list(w) + ['.'] #new character list starting with 'special start' and ending in 'special end'\n",
    "    for ch1, ch2 in zip(chs, chs[1:]): #pair the first char of chs with second char, then second char with the third char and so on\n",
    "        ix1 = stoi[ch1] #find the row of the first char\n",
    "        ix2 = stoi[ch2] #find the column of the second char\n",
    "        xs.append(ix1) #first word\n",
    "        ys.append(ix2)\n",
    "\n",
    "xs = torch.tensor(xs)\n",
    "ys = torch.tensor(ys)"
   ]
  },
  {
   "cell_type": "code",
   "execution_count": null,
   "id": "e4cb24e8-fcbb-4692-bacf-a83884f78c33",
   "metadata": {},
   "outputs": [],
   "source": [
    "xs"
   ]
  },
  {
   "cell_type": "code",
   "execution_count": null,
   "id": "d8598e1b-30e8-428c-8343-bce61503fc06",
   "metadata": {},
   "outputs": [],
   "source": [
    "ys"
   ]
  },
  {
   "cell_type": "code",
   "execution_count": null,
   "id": "a4ee7808-4ec7-4e49-a2e7-df2c15d22978",
   "metadata": {},
   "outputs": [],
   "source": [
    "#Inputs\n",
    "#need a way to put the inputs into the NN. Represent them as vectors of dimension 27 and put a 1 in the index number of the character\n",
    "import torch.nn.functional as F\n",
    "xenc = F.one_hot(xs, num_classes=27).float() #need it to be a float to feed into NN"
   ]
  },
  {
   "cell_type": "code",
   "execution_count": null,
   "id": "ed301b5e-5ec5-480d-b213-e506e2c992c3",
   "metadata": {},
   "outputs": [],
   "source": [
    "\n",
    "\n",
    "#Z-values under Softmax activation function (creates probability)\n",
    "logits = (xenc @ W)\n",
    "counts = logits.exp() #matrix multiplication interperated as log values, so exp() to remove exp and make positive (to get \"counts\")\n",
    "probs = counts/counts.sum(1, keepdim = True) #interperate as a probability distribution to use for loss function\n",
    "#Classification: Negative Log Likeliness\n",
    "loss = loss = (len(ys))**(-1) * sum(-torch.log(probs[ix1][ix2]) for ix1, ix2 in enumerate(ys))\n",
    "loss"
   ]
  },
  {
   "cell_type": "code",
   "execution_count": 329,
   "id": "82ae56fd-86f2-4101-b606-a2c153e1a0bc",
   "metadata": {},
   "outputs": [],
   "source": [
    "#Calculating weights IMPORTANT TO INCLUDE \"requires_grad = True\"\n",
    "W = torch.randn((27,27), requires_grad = True) #find random values for 27 weights for 27 neurons in the first layer (one for each char) using normal distribution"
   ]
  },
  {
   "cell_type": "code",
   "execution_count": 330,
   "id": "ad25e812-5199-4c61-afca-8027fe1f88d4",
   "metadata": {},
   "outputs": [
    {
     "name": "stdout",
     "output_type": "stream",
     "text": [
      "Epoch: 2.583664894104004\n",
      "Epoch: 2.4645891189575195\n",
      "Epoch: 2.456129550933838\n",
      "Epoch: 2.4538660049438477\n",
      "Epoch: 2.45296049118042\n",
      "Epoch: 2.452498435974121\n",
      "Epoch: 2.4522459506988525\n",
      "Epoch: 2.452084541320801\n",
      "Epoch: 2.4519758224487305\n",
      "Epoch: 2.45190691947937\n",
      "Epoch: 2.451857328414917\n",
      "Epoch: 2.4518258571624756\n",
      "Epoch: 2.45180082321167\n",
      "Epoch: 2.451784372329712\n",
      "Epoch: 2.451770305633545\n",
      "Epoch: 2.451756715774536\n",
      "Epoch: 2.451746702194214\n",
      "Epoch: 2.4517433643341064\n"
     ]
    },
    {
     "ename": "KeyboardInterrupt",
     "evalue": "",
     "output_type": "error",
     "traceback": [
      "\u001b[31m---------------------------------------------------------------------------\u001b[39m",
      "\u001b[31mKeyboardInterrupt\u001b[39m                         Traceback (most recent call last)",
      "\u001b[36mCell\u001b[39m\u001b[36m \u001b[39m\u001b[32mIn[330]\u001b[39m\u001b[32m, line 36\u001b[39m\n\u001b[32m     34\u001b[39m \u001b[38;5;66;03m#Backward pass\u001b[39;00m\n\u001b[32m     35\u001b[39m W.grad = \u001b[38;5;28;01mNone\u001b[39;00m \u001b[38;5;66;03m#sets gradient to zero\u001b[39;00m\n\u001b[32m---> \u001b[39m\u001b[32m36\u001b[39m \u001b[43mloss\u001b[49m\u001b[43m.\u001b[49m\u001b[43mbackward\u001b[49m\u001b[43m(\u001b[49m\u001b[43m)\u001b[49m\n\u001b[32m     37\u001b[39m \u001b[38;5;28;01mwith\u001b[39;00m torch.no_grad():\n\u001b[32m     38\u001b[39m     W -= lr * W.grad\n",
      "\u001b[36mFile \u001b[39m\u001b[32m/Library/Frameworks/Python.framework/Versions/3.13/lib/python3.13/site-packages/torch/_tensor.py:647\u001b[39m, in \u001b[36mTensor.backward\u001b[39m\u001b[34m(self, gradient, retain_graph, create_graph, inputs)\u001b[39m\n\u001b[32m    637\u001b[39m \u001b[38;5;28;01mif\u001b[39;00m has_torch_function_unary(\u001b[38;5;28mself\u001b[39m):\n\u001b[32m    638\u001b[39m     \u001b[38;5;28;01mreturn\u001b[39;00m handle_torch_function(\n\u001b[32m    639\u001b[39m         Tensor.backward,\n\u001b[32m    640\u001b[39m         (\u001b[38;5;28mself\u001b[39m,),\n\u001b[32m   (...)\u001b[39m\u001b[32m    645\u001b[39m         inputs=inputs,\n\u001b[32m    646\u001b[39m     )\n\u001b[32m--> \u001b[39m\u001b[32m647\u001b[39m \u001b[43mtorch\u001b[49m\u001b[43m.\u001b[49m\u001b[43mautograd\u001b[49m\u001b[43m.\u001b[49m\u001b[43mbackward\u001b[49m\u001b[43m(\u001b[49m\n\u001b[32m    648\u001b[39m \u001b[43m    \u001b[49m\u001b[38;5;28;43mself\u001b[39;49m\u001b[43m,\u001b[49m\u001b[43m \u001b[49m\u001b[43mgradient\u001b[49m\u001b[43m,\u001b[49m\u001b[43m \u001b[49m\u001b[43mretain_graph\u001b[49m\u001b[43m,\u001b[49m\u001b[43m \u001b[49m\u001b[43mcreate_graph\u001b[49m\u001b[43m,\u001b[49m\u001b[43m \u001b[49m\u001b[43minputs\u001b[49m\u001b[43m=\u001b[49m\u001b[43minputs\u001b[49m\n\u001b[32m    649\u001b[39m \u001b[43m\u001b[49m\u001b[43m)\u001b[49m\n",
      "\u001b[36mFile \u001b[39m\u001b[32m/Library/Frameworks/Python.framework/Versions/3.13/lib/python3.13/site-packages/torch/autograd/__init__.py:354\u001b[39m, in \u001b[36mbackward\u001b[39m\u001b[34m(tensors, grad_tensors, retain_graph, create_graph, grad_variables, inputs)\u001b[39m\n\u001b[32m    349\u001b[39m     retain_graph = create_graph\n\u001b[32m    351\u001b[39m \u001b[38;5;66;03m# The reason we repeat the same comment below is that\u001b[39;00m\n\u001b[32m    352\u001b[39m \u001b[38;5;66;03m# some Python versions print out the first line of a multi-line function\u001b[39;00m\n\u001b[32m    353\u001b[39m \u001b[38;5;66;03m# calls in the traceback and some print out the last line\u001b[39;00m\n\u001b[32m--> \u001b[39m\u001b[32m354\u001b[39m \u001b[43m_engine_run_backward\u001b[49m\u001b[43m(\u001b[49m\n\u001b[32m    355\u001b[39m \u001b[43m    \u001b[49m\u001b[43mtensors\u001b[49m\u001b[43m,\u001b[49m\n\u001b[32m    356\u001b[39m \u001b[43m    \u001b[49m\u001b[43mgrad_tensors_\u001b[49m\u001b[43m,\u001b[49m\n\u001b[32m    357\u001b[39m \u001b[43m    \u001b[49m\u001b[43mretain_graph\u001b[49m\u001b[43m,\u001b[49m\n\u001b[32m    358\u001b[39m \u001b[43m    \u001b[49m\u001b[43mcreate_graph\u001b[49m\u001b[43m,\u001b[49m\n\u001b[32m    359\u001b[39m \u001b[43m    \u001b[49m\u001b[43minputs_tuple\u001b[49m\u001b[43m,\u001b[49m\n\u001b[32m    360\u001b[39m \u001b[43m    \u001b[49m\u001b[43mallow_unreachable\u001b[49m\u001b[43m=\u001b[49m\u001b[38;5;28;43;01mTrue\u001b[39;49;00m\u001b[43m,\u001b[49m\n\u001b[32m    361\u001b[39m \u001b[43m    \u001b[49m\u001b[43maccumulate_grad\u001b[49m\u001b[43m=\u001b[49m\u001b[38;5;28;43;01mTrue\u001b[39;49;00m\u001b[43m,\u001b[49m\n\u001b[32m    362\u001b[39m \u001b[43m\u001b[49m\u001b[43m)\u001b[49m\n",
      "\u001b[36mFile \u001b[39m\u001b[32m/Library/Frameworks/Python.framework/Versions/3.13/lib/python3.13/site-packages/torch/autograd/graph.py:829\u001b[39m, in \u001b[36m_engine_run_backward\u001b[39m\u001b[34m(t_outputs, *args, **kwargs)\u001b[39m\n\u001b[32m    827\u001b[39m     unregister_hooks = _register_logging_hooks_on_whole_graph(t_outputs)\n\u001b[32m    828\u001b[39m \u001b[38;5;28;01mtry\u001b[39;00m:\n\u001b[32m--> \u001b[39m\u001b[32m829\u001b[39m     \u001b[38;5;28;01mreturn\u001b[39;00m \u001b[43mVariable\u001b[49m\u001b[43m.\u001b[49m\u001b[43m_execution_engine\u001b[49m\u001b[43m.\u001b[49m\u001b[43mrun_backward\u001b[49m\u001b[43m(\u001b[49m\u001b[43m  \u001b[49m\u001b[38;5;66;43;03m# Calls into the C++ engine to run the backward pass\u001b[39;49;00m\n\u001b[32m    830\u001b[39m \u001b[43m        \u001b[49m\u001b[43mt_outputs\u001b[49m\u001b[43m,\u001b[49m\u001b[43m \u001b[49m\u001b[43m*\u001b[49m\u001b[43margs\u001b[49m\u001b[43m,\u001b[49m\u001b[43m \u001b[49m\u001b[43m*\u001b[49m\u001b[43m*\u001b[49m\u001b[43mkwargs\u001b[49m\n\u001b[32m    831\u001b[39m \u001b[43m    \u001b[49m\u001b[43m)\u001b[49m  \u001b[38;5;66;03m# Calls into the C++ engine to run the backward pass\u001b[39;00m\n\u001b[32m    832\u001b[39m \u001b[38;5;28;01mfinally\u001b[39;00m:\n\u001b[32m    833\u001b[39m     \u001b[38;5;28;01mif\u001b[39;00m attach_logging_hooks:\n",
      "\u001b[31mKeyboardInterrupt\u001b[39m: "
     ]
    }
   ],
   "source": [
    "import torch.nn.functional as F\n",
    "lr = 0.1\n",
    "total_loss = 0\n",
    "\n",
    "#Forward pass\n",
    "for k in range(100):  \n",
    "    for w in words:\n",
    "        xs, ys = [], [] #example input, desired output\n",
    "        \n",
    "        chs = ['.'] + list(w) + ['.'] #new character list starting with 'special start' and ending in 'special end'\n",
    "        for ch1, ch2 in zip(chs, chs[1:]): #pair the first char of chs with second char, then second char with the third char and so on\n",
    "            ix1 = stoi[ch1] #find the row of the first char\n",
    "            ix2 = stoi[ch2] #find the column of the second char\n",
    "            xs.append(ix1) #inputs\n",
    "            ys.append(ix2) #desired outputs\n",
    "    \n",
    "        xs = torch.tensor(xs)\n",
    "        ys = torch.tensor(ys)\n",
    "    \n",
    "        #Activation of each neuron:\n",
    "        xenc = F.one_hot(xs, num_classes=27).float() #need a way to put the inputs into the NN. Represent them as vectors of dimension 27 and put a 1 in the index number of the character\n",
    "        \n",
    "        #Z-values under Softmax activation function (creates probability)\n",
    "        logits = (xenc @ W)\n",
    "        counts = logits.exp() #matrix multiplication interperated as log values, so exp() to remove exp and make positive (to get \"counts\")\n",
    "        probs = counts/counts.sum(1, keepdim = True) #interperate as a probability distribution to use for loss function\n",
    "        \n",
    "        #Classification: Negative Log Likeliness\n",
    "        #adding the 0.01*(W**2).mean() called regularization. This insentivizes weights to be close to 0 which smooths the probabilities; similar to adding 1 to the count for each bigram) \n",
    "        loss = (-probs[torch.arange(ys.shape[0]), ys].log()).mean() + 0.01*(W**2).mean()\n",
    "        #print(loss.item())\n",
    "        total_loss += loss\n",
    "        \n",
    "        #Backward pass\n",
    "        W.grad = None #sets gradient to zero\n",
    "        loss.backward()\n",
    "        with torch.no_grad():\n",
    "            W -= lr * W.grad\n",
    "            W.grad.zero_()\n",
    "\n",
    "    avg_loss = total_loss / len(words)\n",
    "    print(f\"Epoch: {avg_loss.item()}\")\n",
    "    total_loss = 0"
   ]
  },
  {
   "cell_type": "code",
   "execution_count": 358,
   "id": "6adec086-60bf-42da-95e5-3da6b4a97e49",
   "metadata": {},
   "outputs": [
    {
     "name": "stdout",
     "output_type": "stream",
     "text": [
      "dampaviynt.\n",
      "baviy.\n",
      "del.\n",
      "tirilibenix.\n",
      "ttaeyiomonzkleves.\n"
     ]
    }
   ],
   "source": [
    "#Sample from Neural Net\n",
    "\n",
    "for i in range(5):\n",
    "    \n",
    "    out = []\n",
    "    ix = 0\n",
    "\n",
    "    while True:\n",
    "        \n",
    "        xenc = F.one_hot(torch.tensor([ix]), num_classes=27).float() #Get vector representing character\n",
    "        logits = xenc @ W #Predict log counts\n",
    "        counts = logits.exp() #Get counts, equivalent to N\n",
    "        p = counts / counts.sum(1, keepdim=True) #Normalize counts so they are the probability of the next character\n",
    "\n",
    "        ix = torch.multinomial(p, num_samples=1, replacement=True).item() #Pick a random char index from p\n",
    "        out.append(itos[ix]) #Convert the index to the character and add it to the word\n",
    "        if ix == 0: #End the generation if '.' appears\n",
    "            break\n",
    "    print(''.join(out))"
   ]
  },
  {
   "cell_type": "code",
   "execution_count": null,
   "id": "44b2dce0-b1f1-4294-a321-32f673fc9429",
   "metadata": {},
   "outputs": [],
   "source": []
  }
 ],
 "metadata": {
  "kernelspec": {
   "display_name": "Python 3 (ipykernel)",
   "language": "python",
   "name": "python3"
  },
  "language_info": {
   "codemirror_mode": {
    "name": "ipython",
    "version": 3
   },
   "file_extension": ".py",
   "mimetype": "text/x-python",
   "name": "python",
   "nbconvert_exporter": "python",
   "pygments_lexer": "ipython3",
   "version": "3.13.3"
  }
 },
 "nbformat": 4,
 "nbformat_minor": 5
}
