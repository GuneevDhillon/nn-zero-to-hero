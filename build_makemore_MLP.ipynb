{
 "cells": [
  {
   "cell_type": "code",
   "execution_count": null,
   "id": "dd278248-4c7b-4726-9884-c9f203adfb8b",
   "metadata": {},
   "outputs": [],
   "source": [
    "import torch\n",
    "import torch.nn.functional as F\n",
    "import matplotlib.pyplot as plt\n",
    "%matplotlib inline"
   ]
  },
  {
   "cell_type": "code",
   "execution_count": null,
   "id": "e6337128-f9ec-4949-b0c5-42cb788c8168",
   "metadata": {},
   "outputs": [],
   "source": [
    "#Read all the words\n",
    "words = open('names.txt', 'r').read().splitlines()"
   ]
  },
  {
   "cell_type": "code",
   "execution_count": 390,
   "id": "3aadda7d-0bfd-494c-b47a-a5ba708619d1",
   "metadata": {},
   "outputs": [
    {
     "name": "stdout",
     "output_type": "stream",
     "text": [
      "{0: '.', 1: 'a', 2: 'b', 3: 'c', 4: 'd', 5: 'e', 6: 'f', 7: 'g', 8: 'h', 9: 'i', 10: 'j', 11: 'k', 12: 'l', 13: 'm', 14: 'n', 15: 'o', 16: 'p', 17: 'q', 18: 'r', 19: 's', 20: 't', 21: 'u', 22: 'v', 23: 'w', 24: 'x', 25: 'y', 26: 'z'}\n"
     ]
    }
   ],
   "source": [
    "#Build mapping of characters from integers to strings\n",
    "chars = sorted(list(set(''.join(words))))\n",
    "stoi = {s:i+1 for i, s in enumerate(chars)}\n",
    "stoi['.'] = 0\n",
    "itos = {i: s for s, i in sorted(stoi.items(), key=lambda x: x[1])}\n",
    "print(itos)"
   ]
  },
  {
   "cell_type": "code",
   "execution_count": 152,
   "id": "da915044-9cb0-413f-8b60-3a524547b31a",
   "metadata": {},
   "outputs": [],
   "source": [
    "#Build the dataset\n",
    "\n",
    "block_size = 3 #context length (how many chars we take to predict the next one)\n",
    "X, Y = [], [] #inputs, and labels (traning set)\n",
    "\n",
    "for w in words:\n",
    "    #print(w)\n",
    "\n",
    "    context = [0] * block_size\n",
    "    \n",
    "    for ch in w + '.':\n",
    "        ix = stoi[ch]\n",
    "        X.append(context)\n",
    "        Y.append(ix)\n",
    "\n",
    "        #print(''.join (itos[i] for i in context),'--->', itos[ix]) #this is just for visualization\n",
    "        \n",
    "        context = context[1:] + [ix] #crop and append\n",
    "\n",
    "X = torch.tensor(X)\n",
    "Y = torch.tensor(Y)"
   ]
  },
  {
   "cell_type": "code",
   "execution_count": null,
   "id": "5d4e373a-52a0-409d-b3bf-80e8074d6463",
   "metadata": {},
   "outputs": [],
   "source": [
    "#Look-up table (each letter will live in a 2D space)\n",
    "\n",
    "C = torch.randn(27, 2) #random initialization\n",
    "C"
   ]
  },
  {
   "cell_type": "code",
   "execution_count": null,
   "id": "9c32c921-ec48-4d43-b4ea-6e0f9b856ef8",
   "metadata": {},
   "outputs": [],
   "source": [
    "C[5] #this is equivalent to one_hot all the chars and putting the 5th char into the first layer of the MLP  where each Neuron linearly scales the \"char\" using the C matrix"
   ]
  },
  {
   "cell_type": "code",
   "execution_count": null,
   "id": "512652e2-b936-4cf5-96ee-254f82eb74f8",
   "metadata": {},
   "outputs": [],
   "source": [
    "#Indexing context into the NN (basically the first layer but being treated as making the inputs to the actual first layer)\n",
    "emb = C[X]\n",
    "emb"
   ]
  },
  {
   "cell_type": "code",
   "execution_count": null,
   "id": "68d03732-5aa2-48d7-8a0d-209011c7655f",
   "metadata": {},
   "outputs": [],
   "source": [
    "#First layer\n",
    "W1 = torch.randn((emb.shape[1] * emb.shape[2], 100), requires_grad = True) #inputs from each context into 100 neurons\n",
    "b1 = torch.randn((100), requires_grad = True) #biases for 100 neurons\n",
    "\n",
    "#need emb to be 2D like W1\n",
    "z1 = emb.view(-1, W1.shape[0]) @ W1 +b1\n",
    "a1 = torch.tanh(z)"
   ]
  },
  {
   "cell_type": "code",
   "execution_count": null,
   "id": "a0c8626d-cdee-4495-aff2-b730eccf2a05",
   "metadata": {},
   "outputs": [],
   "source": [
    "#Second layer\n",
    "\n",
    "W2 = torch.randn((100, 27), requires_grad = True) #100 neurons in previous layer and 27 in this layer to represent probability of each char appearing next\n",
    "b2 = torch.randn((27), requires_grad = True)\n",
    "\n",
    "logits = a1 @ W2 + b2\n",
    "counts = logits.exp() #fake counts\n",
    "prob = counts / counts.sum(1, keepdim=True) #probability distribution\n",
    "prob.shape"
   ]
  },
  {
   "cell_type": "code",
   "execution_count": null,
   "id": "dc11d2cd-998b-470e-acfb-b8685d8d90d9",
   "metadata": {},
   "outputs": [],
   "source": [
    "#Loss function: NLL\n",
    "loss = -prob[torch.arange(32), Y].log().mean() #negative average of logs of current probabilities of the desired char appearing for each context\n",
    "loss"
   ]
  },
  {
   "cell_type": "code",
   "execution_count": null,
   "id": "e21a783e-c8ad-499b-9360-309f26b5a03d",
   "metadata": {},
   "outputs": [],
   "source": [
    "z1 = emb.view(-1, W1.shape[0]) @ W1 +b1\n",
    "a1 = torch.tanh(z)\n",
    "\n",
    "logits = a1 @ W2 + b2\n",
    "counts = logits.exp() #fake counts\n",
    "prob = counts / counts.sum(1, keepdim=True) #probability distribution\n",
    "prob.shape\n",
    "\n",
    "loss = -prob[torch.arange(32), Y].log().mean() #negative average of logs of current probabilities of the desired char appearing for each context\n",
    "loss"
   ]
  },
  {
   "cell_type": "code",
   "execution_count": 285,
   "id": "7ccae9f1-a37b-4846-988c-aba7e6030c2b",
   "metadata": {},
   "outputs": [],
   "source": [
    "#Look-up table (each letter will live in a 2D space)\n",
    "C = torch.randn(27, 2) #random initialization"
   ]
  },
  {
   "cell_type": "code",
   "execution_count": null,
   "id": "6e0a6041-e2ae-4e84-8406-622485d11cd1",
   "metadata": {},
   "outputs": [],
   "source": [
    "#-------------Make it look better---------------"
   ]
  },
  {
   "cell_type": "code",
   "execution_count": 338,
   "id": "72412966-0c55-426e-ab74-12e5fc4c858e",
   "metadata": {},
   "outputs": [],
   "source": [
    "#Function to build the dataset\n",
    "\n",
    "def build_dataset(words):\n",
    "    \n",
    "    block_size = 3 #context length (how many chars we take to predict the next one)\n",
    "    X, Y = [], [] #inputs, and labels (traning set)\n",
    "    \n",
    "    for w in words:\n",
    "        #print(w)\n",
    "    \n",
    "        context = [0] * block_size\n",
    "        \n",
    "        for ch in w + '.':\n",
    "            ix = stoi[ch]\n",
    "            X.append(context)\n",
    "            Y.append(ix)\n",
    "    \n",
    "            #print(''.join (itos[i] for i in context),'--->', itos[ix]) #this is just for visualization\n",
    "            \n",
    "            context = context[1:] + [ix] #crop and append\n",
    "    \n",
    "    X = torch.tensor(X)\n",
    "    Y = torch.tensor(Y)\n",
    "    return X, Y\n",
    "\n",
    "#Splitting training examples into 3 sets\n",
    "import random\n",
    "random.shuffle(words) #shuffle the words\n",
    "n1 = int(0.8*len(words)) #get the first 80%\n",
    "n2 = int(0.9*len(words)) #get the first 90%\n",
    "\n",
    "Xtr, Ytr = build_dataset(words[:n1]) #training split - first 80%\n",
    "Xdev, Ydev = build_dataset(words[n1:n2]) #dev split - next 10%\n",
    "Xte, Yte = build_dataset(words[n2:]) #test split - last 10%"
   ]
  },
  {
   "cell_type": "code",
   "execution_count": 339,
   "id": "0292c80d-7e07-4607-bda2-07e026834882",
   "metadata": {},
   "outputs": [
    {
     "data": {
      "text/plain": [
       "(torch.Size([182325, 3]), torch.Size([182325]))"
      ]
     },
     "execution_count": 339,
     "metadata": {},
     "output_type": "execute_result"
    }
   ],
   "source": [
    "Xtr.shape, Ytr.shape"
   ]
  },
  {
   "cell_type": "code",
   "execution_count": 343,
   "id": "546f660e-8d3a-4959-9ada-76e6f820b17f",
   "metadata": {},
   "outputs": [],
   "source": [
    "#Parameters\n",
    "C = torch.randn(27, 10) #random initialization with chars represented in 10D\n",
    "W1 = torch.randn(C.shape[1] * block_size, 200) #inputs from each context into 100 neurons\n",
    "b1 = torch.randn(200) #biases for 100 neurons\n",
    "W2 = torch.randn(200, 27) #100 neurons in previous layer and 27 in this layer to represent probability of each char appearing next\n",
    "b2 = torch.randn(27)\n",
    "parameters = [C, W1, b1, W2, b2]"
   ]
  },
  {
   "cell_type": "code",
   "execution_count": 344,
   "id": "5125c9c0-81cd-4482-9d64-b871722ae3f0",
   "metadata": {},
   "outputs": [],
   "source": [
    "for p in parameters:\n",
    "    p.requires_grad = True"
   ]
  },
  {
   "cell_type": "code",
   "execution_count": 345,
   "id": "c128d8f0-79fb-4b59-b514-9649485b7a8f",
   "metadata": {},
   "outputs": [],
   "source": [
    "#Stats to keep track of\n",
    "\n",
    "lri = []\n",
    "lossi = []\n",
    "stepi = []"
   ]
  },
  {
   "cell_type": "code",
   "execution_count": 366,
   "id": "6fb577a0-2fc3-4b9c-abf7-63470dd865fe",
   "metadata": {},
   "outputs": [],
   "source": [
    "lr = 0.0016\n",
    "\n",
    "for i in range(50000):\n",
    "\n",
    "    ix = torch.randint(0, Xtr.shape[0], (32,)) # get 32 random indexes from the size of X\n",
    "    \n",
    "    #Forward pass\n",
    "    emb = C[Xtr[ix]]\n",
    "    z1 = emb.view(-1, W1.shape[0]) @ W1 +b1\n",
    "    a1 = torch.tanh(z1)\n",
    "    logits = a1 @ W2 + b2\n",
    "    loss = F.cross_entropy(logits, Ytr[ix]) #We can use this built in Torch function which is just NLL that we previously coded\n",
    "    #print(loss.item())\n",
    "    \n",
    "    \n",
    "    #Backward pass\n",
    "    \n",
    "    for p in parameters:\n",
    "        p.grad = None\n",
    "    loss.backward()\n",
    "    \n",
    "    #learning iteration\n",
    "    #lr = lrs[i]\n",
    "    for p in parameters:\n",
    "        p.data += -lr * p.grad\n",
    "\n",
    "    #track lr stats\n",
    "    #lri.append(lre[i])\n",
    "    lossi.append(loss.log10().item())\n",
    "    stepi.append(i)"
   ]
  },
  {
   "cell_type": "code",
   "execution_count": 367,
   "id": "83fc5092-2404-46d2-a54c-afe36816ff31",
   "metadata": {},
   "outputs": [
    {
     "data": {
      "text/plain": [
       "2.0777132511138916"
      ]
     },
     "execution_count": 367,
     "metadata": {},
     "output_type": "execute_result"
    }
   ],
   "source": [
    "#This is the loss of the entire training split\n",
    "\n",
    "emb = C[Xtr]\n",
    "z1 = emb.view(-1, W1.shape[0]) @ W1 +b1\n",
    "a1 = torch.tanh(z1)\n",
    "logits = a1 @ W2 + b2\n",
    "loss = F.cross_entropy(logits, Ytr) #We can use this built in Torch function which is just NLL that we previously coded\n",
    "loss.item()"
   ]
  },
  {
   "cell_type": "code",
   "execution_count": 368,
   "id": "7eb9b203-bcd7-4176-9c6b-7199c56af282",
   "metadata": {},
   "outputs": [
    {
     "data": {
      "text/plain": [
       "2.126005172729492"
      ]
     },
     "execution_count": 368,
     "metadata": {},
     "output_type": "execute_result"
    }
   ],
   "source": [
    "#This is the loss of the entire dev split\n",
    "\n",
    "emb = C[Xdev]\n",
    "z1 = emb.view(-1, W1.shape[0]) @ W1 +b1\n",
    "a1 = torch.tanh(z1)\n",
    "logits = a1 @ W2 + b2\n",
    "loss = F.cross_entropy(logits, Ydev) #We can use this built in Torch function which is just NLL that we previously coded\n",
    "loss.item()"
   ]
  },
  {
   "cell_type": "code",
   "execution_count": null,
   "id": "5252cb4e-faa4-4b25-ac2a-97002c72a1c9",
   "metadata": {},
   "outputs": [],
   "source": [
    "#-------Stochastic Gradient Descent--------\n",
    "\n",
    "torch.randint(0, X.shape[0], (32,)) # get 32 random indexes from the size of X"
   ]
  },
  {
   "cell_type": "code",
   "execution_count": 233,
   "id": "dda91f9a-0cd5-4160-b07f-648c9c87164c",
   "metadata": {},
   "outputs": [
    {
     "data": {
      "text/plain": [
       "tensor([0.0010, 0.0010, 0.0010, 0.0010, 0.0010, 0.0010, 0.0010, 0.0010, 0.0011,\n",
       "        0.0011, 0.0011, 0.0011, 0.0011, 0.0011, 0.0011, 0.0011, 0.0011, 0.0011,\n",
       "        0.0011, 0.0011, 0.0011, 0.0012, 0.0012, 0.0012, 0.0012, 0.0012, 0.0012,\n",
       "        0.0012, 0.0012, 0.0012, 0.0012, 0.0012, 0.0012, 0.0013, 0.0013, 0.0013,\n",
       "        0.0013, 0.0013, 0.0013, 0.0013, 0.0013, 0.0013, 0.0013, 0.0013, 0.0014,\n",
       "        0.0014, 0.0014, 0.0014, 0.0014, 0.0014, 0.0014, 0.0014, 0.0014, 0.0014,\n",
       "        0.0015, 0.0015, 0.0015, 0.0015, 0.0015, 0.0015, 0.0015, 0.0015, 0.0015,\n",
       "        0.0015, 0.0016, 0.0016, 0.0016, 0.0016, 0.0016, 0.0016, 0.0016, 0.0016,\n",
       "        0.0016, 0.0017, 0.0017, 0.0017, 0.0017, 0.0017, 0.0017, 0.0017, 0.0017,\n",
       "        0.0018, 0.0018, 0.0018, 0.0018, 0.0018, 0.0018, 0.0018, 0.0018, 0.0019,\n",
       "        0.0019, 0.0019, 0.0019, 0.0019, 0.0019, 0.0019, 0.0019, 0.0020, 0.0020,\n",
       "        0.0020, 0.0020, 0.0020, 0.0020, 0.0020, 0.0021, 0.0021, 0.0021, 0.0021,\n",
       "        0.0021, 0.0021, 0.0021, 0.0022, 0.0022, 0.0022, 0.0022, 0.0022, 0.0022,\n",
       "        0.0022, 0.0023, 0.0023, 0.0023, 0.0023, 0.0023, 0.0023, 0.0024, 0.0024,\n",
       "        0.0024, 0.0024, 0.0024, 0.0024, 0.0025, 0.0025, 0.0025, 0.0025, 0.0025,\n",
       "        0.0025, 0.0026, 0.0026, 0.0026, 0.0026, 0.0026, 0.0027, 0.0027, 0.0027,\n",
       "        0.0027, 0.0027, 0.0027, 0.0028, 0.0028, 0.0028, 0.0028, 0.0028, 0.0029,\n",
       "        0.0029, 0.0029, 0.0029, 0.0029, 0.0030, 0.0030, 0.0030, 0.0030, 0.0030,\n",
       "        0.0031, 0.0031, 0.0031, 0.0031, 0.0032, 0.0032, 0.0032, 0.0032, 0.0032,\n",
       "        0.0033, 0.0033, 0.0033, 0.0033, 0.0034, 0.0034, 0.0034, 0.0034, 0.0034,\n",
       "        0.0035, 0.0035, 0.0035, 0.0035, 0.0036, 0.0036, 0.0036, 0.0036, 0.0037,\n",
       "        0.0037, 0.0037, 0.0037, 0.0038, 0.0038, 0.0038, 0.0039, 0.0039, 0.0039,\n",
       "        0.0039, 0.0040, 0.0040, 0.0040, 0.0040, 0.0041, 0.0041, 0.0041, 0.0042,\n",
       "        0.0042, 0.0042, 0.0042, 0.0043, 0.0043, 0.0043, 0.0044, 0.0044, 0.0044,\n",
       "        0.0045, 0.0045, 0.0045, 0.0045, 0.0046, 0.0046, 0.0046, 0.0047, 0.0047,\n",
       "        0.0047, 0.0048, 0.0048, 0.0048, 0.0049, 0.0049, 0.0049, 0.0050, 0.0050,\n",
       "        0.0050, 0.0051, 0.0051, 0.0051, 0.0052, 0.0052, 0.0053, 0.0053, 0.0053,\n",
       "        0.0054, 0.0054, 0.0054, 0.0055, 0.0055, 0.0056, 0.0056, 0.0056, 0.0057,\n",
       "        0.0057, 0.0058, 0.0058, 0.0058, 0.0059, 0.0059, 0.0060, 0.0060, 0.0060,\n",
       "        0.0061, 0.0061, 0.0062, 0.0062, 0.0062, 0.0063, 0.0063, 0.0064, 0.0064,\n",
       "        0.0065, 0.0065, 0.0066, 0.0066, 0.0067, 0.0067, 0.0067, 0.0068, 0.0068,\n",
       "        0.0069, 0.0069, 0.0070, 0.0070, 0.0071, 0.0071, 0.0072, 0.0072, 0.0073,\n",
       "        0.0073, 0.0074, 0.0074, 0.0075, 0.0075, 0.0076, 0.0076, 0.0077, 0.0077,\n",
       "        0.0078, 0.0079, 0.0079, 0.0080, 0.0080, 0.0081, 0.0081, 0.0082, 0.0082,\n",
       "        0.0083, 0.0084, 0.0084, 0.0085, 0.0085, 0.0086, 0.0086, 0.0087, 0.0088,\n",
       "        0.0088, 0.0089, 0.0090, 0.0090, 0.0091, 0.0091, 0.0092, 0.0093, 0.0093,\n",
       "        0.0094, 0.0095, 0.0095, 0.0096, 0.0097, 0.0097, 0.0098, 0.0099, 0.0099,\n",
       "        0.0100, 0.0101, 0.0101, 0.0102, 0.0103, 0.0104, 0.0104, 0.0105, 0.0106,\n",
       "        0.0106, 0.0107, 0.0108, 0.0109, 0.0109, 0.0110, 0.0111, 0.0112, 0.0112,\n",
       "        0.0113, 0.0114, 0.0115, 0.0116, 0.0116, 0.0117, 0.0118, 0.0119, 0.0120,\n",
       "        0.0121, 0.0121, 0.0122, 0.0123, 0.0124, 0.0125, 0.0126, 0.0127, 0.0127,\n",
       "        0.0128, 0.0129, 0.0130, 0.0131, 0.0132, 0.0133, 0.0134, 0.0135, 0.0136,\n",
       "        0.0137, 0.0137, 0.0138, 0.0139, 0.0140, 0.0141, 0.0142, 0.0143, 0.0144,\n",
       "        0.0145, 0.0146, 0.0147, 0.0148, 0.0149, 0.0150, 0.0151, 0.0152, 0.0154,\n",
       "        0.0155, 0.0156, 0.0157, 0.0158, 0.0159, 0.0160, 0.0161, 0.0162, 0.0163,\n",
       "        0.0165, 0.0166, 0.0167, 0.0168, 0.0169, 0.0170, 0.0171, 0.0173, 0.0174,\n",
       "        0.0175, 0.0176, 0.0178, 0.0179, 0.0180, 0.0181, 0.0182, 0.0184, 0.0185,\n",
       "        0.0186, 0.0188, 0.0189, 0.0190, 0.0192, 0.0193, 0.0194, 0.0196, 0.0197,\n",
       "        0.0198, 0.0200, 0.0201, 0.0202, 0.0204, 0.0205, 0.0207, 0.0208, 0.0210,\n",
       "        0.0211, 0.0212, 0.0214, 0.0215, 0.0217, 0.0218, 0.0220, 0.0221, 0.0223,\n",
       "        0.0225, 0.0226, 0.0228, 0.0229, 0.0231, 0.0232, 0.0234, 0.0236, 0.0237,\n",
       "        0.0239, 0.0241, 0.0242, 0.0244, 0.0246, 0.0247, 0.0249, 0.0251, 0.0253,\n",
       "        0.0254, 0.0256, 0.0258, 0.0260, 0.0261, 0.0263, 0.0265, 0.0267, 0.0269,\n",
       "        0.0271, 0.0273, 0.0274, 0.0276, 0.0278, 0.0280, 0.0282, 0.0284, 0.0286,\n",
       "        0.0288, 0.0290, 0.0292, 0.0294, 0.0296, 0.0298, 0.0300, 0.0302, 0.0304,\n",
       "        0.0307, 0.0309, 0.0311, 0.0313, 0.0315, 0.0317, 0.0320, 0.0322, 0.0324,\n",
       "        0.0326, 0.0328, 0.0331, 0.0333, 0.0335, 0.0338, 0.0340, 0.0342, 0.0345,\n",
       "        0.0347, 0.0350, 0.0352, 0.0354, 0.0357, 0.0359, 0.0362, 0.0364, 0.0367,\n",
       "        0.0369, 0.0372, 0.0375, 0.0377, 0.0380, 0.0382, 0.0385, 0.0388, 0.0390,\n",
       "        0.0393, 0.0396, 0.0399, 0.0401, 0.0404, 0.0407, 0.0410, 0.0413, 0.0416,\n",
       "        0.0418, 0.0421, 0.0424, 0.0427, 0.0430, 0.0433, 0.0436, 0.0439, 0.0442,\n",
       "        0.0445, 0.0448, 0.0451, 0.0455, 0.0458, 0.0461, 0.0464, 0.0467, 0.0471,\n",
       "        0.0474, 0.0477, 0.0480, 0.0484, 0.0487, 0.0491, 0.0494, 0.0497, 0.0501,\n",
       "        0.0504, 0.0508, 0.0511, 0.0515, 0.0518, 0.0522, 0.0526, 0.0529, 0.0533,\n",
       "        0.0537, 0.0540, 0.0544, 0.0548, 0.0552, 0.0556, 0.0559, 0.0563, 0.0567,\n",
       "        0.0571, 0.0575, 0.0579, 0.0583, 0.0587, 0.0591, 0.0595, 0.0599, 0.0604,\n",
       "        0.0608, 0.0612, 0.0616, 0.0621, 0.0625, 0.0629, 0.0634, 0.0638, 0.0642,\n",
       "        0.0647, 0.0651, 0.0656, 0.0660, 0.0665, 0.0670, 0.0674, 0.0679, 0.0684,\n",
       "        0.0688, 0.0693, 0.0698, 0.0703, 0.0708, 0.0713, 0.0718, 0.0723, 0.0728,\n",
       "        0.0733, 0.0738, 0.0743, 0.0748, 0.0753, 0.0758, 0.0764, 0.0769, 0.0774,\n",
       "        0.0780, 0.0785, 0.0790, 0.0796, 0.0802, 0.0807, 0.0813, 0.0818, 0.0824,\n",
       "        0.0830, 0.0835, 0.0841, 0.0847, 0.0853, 0.0859, 0.0865, 0.0871, 0.0877,\n",
       "        0.0883, 0.0889, 0.0895, 0.0901, 0.0908, 0.0914, 0.0920, 0.0927, 0.0933,\n",
       "        0.0940, 0.0946, 0.0953, 0.0959, 0.0966, 0.0973, 0.0979, 0.0986, 0.0993,\n",
       "        0.1000, 0.1007, 0.1014, 0.1021, 0.1028, 0.1035, 0.1042, 0.1050, 0.1057,\n",
       "        0.1064, 0.1072, 0.1079, 0.1087, 0.1094, 0.1102, 0.1109, 0.1117, 0.1125,\n",
       "        0.1133, 0.1140, 0.1148, 0.1156, 0.1164, 0.1172, 0.1181, 0.1189, 0.1197,\n",
       "        0.1205, 0.1214, 0.1222, 0.1231, 0.1239, 0.1248, 0.1256, 0.1265, 0.1274,\n",
       "        0.1283, 0.1292, 0.1301, 0.1310, 0.1319, 0.1328, 0.1337, 0.1346, 0.1356,\n",
       "        0.1365, 0.1374, 0.1384, 0.1394, 0.1403, 0.1413, 0.1423, 0.1433, 0.1443,\n",
       "        0.1453, 0.1463, 0.1473, 0.1483, 0.1493, 0.1504, 0.1514, 0.1525, 0.1535,\n",
       "        0.1546, 0.1557, 0.1567, 0.1578, 0.1589, 0.1600, 0.1611, 0.1623, 0.1634,\n",
       "        0.1645, 0.1657, 0.1668, 0.1680, 0.1691, 0.1703, 0.1715, 0.1727, 0.1739,\n",
       "        0.1751, 0.1763, 0.1775, 0.1788, 0.1800, 0.1812, 0.1825, 0.1838, 0.1850,\n",
       "        0.1863, 0.1876, 0.1889, 0.1902, 0.1916, 0.1929, 0.1942, 0.1956, 0.1969,\n",
       "        0.1983, 0.1997, 0.2010, 0.2024, 0.2038, 0.2053, 0.2067, 0.2081, 0.2096,\n",
       "        0.2110, 0.2125, 0.2140, 0.2154, 0.2169, 0.2184, 0.2200, 0.2215, 0.2230,\n",
       "        0.2246, 0.2261, 0.2277, 0.2293, 0.2309, 0.2325, 0.2341, 0.2357, 0.2373,\n",
       "        0.2390, 0.2406, 0.2423, 0.2440, 0.2457, 0.2474, 0.2491, 0.2508, 0.2526,\n",
       "        0.2543, 0.2561, 0.2579, 0.2597, 0.2615, 0.2633, 0.2651, 0.2669, 0.2688,\n",
       "        0.2707, 0.2725, 0.2744, 0.2763, 0.2783, 0.2802, 0.2821, 0.2841, 0.2861,\n",
       "        0.2880, 0.2900, 0.2921, 0.2941, 0.2961, 0.2982, 0.3002, 0.3023, 0.3044,\n",
       "        0.3065, 0.3087, 0.3108, 0.3130, 0.3151, 0.3173, 0.3195, 0.3217, 0.3240,\n",
       "        0.3262, 0.3285, 0.3308, 0.3331, 0.3354, 0.3377, 0.3400, 0.3424, 0.3448,\n",
       "        0.3472, 0.3496, 0.3520, 0.3544, 0.3569, 0.3594, 0.3619, 0.3644, 0.3669,\n",
       "        0.3695, 0.3720, 0.3746, 0.3772, 0.3798, 0.3825, 0.3851, 0.3878, 0.3905,\n",
       "        0.3932, 0.3959, 0.3987, 0.4014, 0.4042, 0.4070, 0.4098, 0.4127, 0.4155,\n",
       "        0.4184, 0.4213, 0.4243, 0.4272, 0.4302, 0.4331, 0.4362, 0.4392, 0.4422,\n",
       "        0.4453, 0.4484, 0.4515, 0.4546, 0.4578, 0.4610, 0.4642, 0.4674, 0.4706,\n",
       "        0.4739, 0.4772, 0.4805, 0.4838, 0.4872, 0.4906, 0.4940, 0.4974, 0.5008,\n",
       "        0.5043, 0.5078, 0.5113, 0.5149, 0.5185, 0.5221, 0.5257, 0.5293, 0.5330,\n",
       "        0.5367, 0.5404, 0.5442, 0.5479, 0.5517, 0.5556, 0.5594, 0.5633, 0.5672,\n",
       "        0.5712, 0.5751, 0.5791, 0.5831, 0.5872, 0.5913, 0.5954, 0.5995, 0.6036,\n",
       "        0.6078, 0.6120, 0.6163, 0.6206, 0.6249, 0.6292, 0.6336, 0.6380, 0.6424,\n",
       "        0.6469, 0.6513, 0.6559, 0.6604, 0.6650, 0.6696, 0.6743, 0.6789, 0.6837,\n",
       "        0.6884, 0.6932, 0.6980, 0.7028, 0.7077, 0.7126, 0.7176, 0.7225, 0.7275,\n",
       "        0.7326, 0.7377, 0.7428, 0.7480, 0.7531, 0.7584, 0.7636, 0.7689, 0.7743,\n",
       "        0.7796, 0.7850, 0.7905, 0.7960, 0.8015, 0.8071, 0.8127, 0.8183, 0.8240,\n",
       "        0.8297, 0.8355, 0.8412, 0.8471, 0.8530, 0.8589, 0.8648, 0.8708, 0.8769,\n",
       "        0.8830, 0.8891, 0.8953, 0.9015, 0.9077, 0.9140, 0.9204, 0.9268, 0.9332,\n",
       "        0.9397, 0.9462, 0.9528, 0.9594, 0.9660, 0.9727, 0.9795, 0.9863, 0.9931,\n",
       "        1.0000])"
      ]
     },
     "execution_count": 233,
     "metadata": {},
     "output_type": "execute_result"
    }
   ],
   "source": [
    "#-------Determining a reasonable learning rate------\n",
    "\n",
    "lrtest = torch.linspace(0.001, 1, 1000) #1000 numbers between 0.001 and 1\n",
    "\n",
    "#But it does not make sense to step through these lerning rates linearly\n",
    "lre = torch.linspace(-3, 0, 1000) #10^-3 = 0.001 and 10^0 = 1. Now we are spaced exponentially\n",
    "lrs = 10**lre\n",
    "lrs\n",
    "\n",
    "#Next, run the optimization for the number of steps in lrs (1000)\n",
    "#In the optimization code, add lr = lrs[i] so the learning rate is different for every iteration and at the top of the loop put 'for i in range...'\n",
    "#To keep track of the learning rate performance, make a vector lri and append the lre[i] for each iteration. Also make a vector lossi and append the loss for that iteration\n",
    "#In another line type 'plt.plt(lri, lossi)\n",
    "#Choose the lre at the min of the graph as your initial lr\n",
    "#After iterating through the optimizer a lot and getting to a poinit where the loss is not changing substantially, do lr decay, where you make the lr smaller. Repeat this process (decaying the lr) until happy"
   ]
  },
  {
   "cell_type": "code",
   "execution_count": 244,
   "id": "696722fa-c361-4123-b8bc-37a7573947e4",
   "metadata": {},
   "outputs": [
    {
     "data": {
      "text/plain": [
       "[<matplotlib.lines.Line2D at 0x11b9dd6d0>]"
      ]
     },
     "execution_count": 244,
     "metadata": {},
     "output_type": "execute_result"
    },
    {
     "data": {
      "image/png": "[encoded data removed]",
      "text/plain": [
       "<Figure size 640x480 with 1 Axes>"
      ]
     },
     "metadata": {},
     "output_type": "display_data"
    }
   ],
   "source": [
    "#Plot lri vs lossi\n",
    "plt.plot(lri, lossi)"
   ]
  },
  {
   "cell_type": "code",
   "execution_count": 282,
   "id": "79203856-d2d4-4198-8a27-8d7855bcc8c6",
   "metadata": {},
   "outputs": [],
   "source": [
    "#To avoid overfitting we split our training examples into:\n",
    "# training split (~80%), dev/validation split (~10%), test split (~10%)\n",
    "# If loss of tr split ~ loss of dev split then we are underfitting. So, we need to add more parameters. First try adding more neurons, if loss does not improve significantly, make inputs more dimensions\n"
   ]
  },
  {
   "cell_type": "code",
   "execution_count": 347,
   "id": "36a4da20-fb77-437c-b19b-bb6baea16ad9",
   "metadata": {},
   "outputs": [
    {
     "data": {
      "text/plain": [
       "[<matplotlib.lines.Line2D at 0x11ab20f50>]"
      ]
     },
     "execution_count": 347,
     "metadata": {},
     "output_type": "execute_result"
    },
    {
     "data": {
      "image/png": "[encoded data removed]",
      "text/plain": [
       "<Figure size 640x480 with 1 Axes>"
      ]
     },
     "metadata": {},
     "output_type": "display_data"
    }
   ],
   "source": [
    "plt.plot(stepi, lossi)"
   ]
  },
  {
   "cell_type": "code",
   "execution_count": 405,
   "id": "143f023d-9e36-412c-821a-a83ab3c5b516",
   "metadata": {},
   "outputs": [
    {
     "name": "stdout",
     "output_type": "stream",
     "text": [
      "anassin.\n",
      "clauriya.\n",
      "aminsalei.\n",
      "sasten.\n",
      "jaselena.\n",
      "ensloi.\n",
      "een.\n",
      "glo.\n",
      "bryona.\n",
      "alianyra.\n"
     ]
    }
   ],
   "source": [
    "#Sample from the model\n",
    "\n",
    "for _ in range(10):\n",
    "    out = []\n",
    "    context = [0] * block_size\n",
    "\n",
    "    while True:\n",
    "        \n",
    "        emb = C[torch.tensor([context])] #dimensions: (1, block_size)\n",
    "        z1 = emb.view(-1, W1.shape[0]) @ W1 +b1\n",
    "        a1 = torch.tanh(z1)\n",
    "        logits = a1 @ W2 + b2\n",
    "        probs = F.softmax(logits, dim = 1) #Make a probability distribution for the chance of each of the 27 chars appearing next\n",
    "        ix = torch.multinomial(probs,num_samples = 1).item() #get the int corresponding to the next char\n",
    "        out.append(ix) #convert to char and append\n",
    "        \n",
    "        context = context [1:] + [ix]\n",
    "        \n",
    "        if ix == 0:\n",
    "            break\n",
    "            \n",
    "    print(''.join(itos[i] for i in out))"
   ]
  },
  {
   "cell_type": "code",
   "execution_count": null,
   "id": "f0584c84-ad6e-4bc5-bdd2-5370ea13e25e",
   "metadata": {},
   "outputs": [],
   "source": []
  },
  {
   "cell_type": "code",
   "execution_count": null,
   "id": "b36ceadc-b094-4b82-bda2-deb8c5adab7b",
   "metadata": {},
   "outputs": [],
   "source": []
  },
  {
   "cell_type": "code",
   "execution_count": null,
   "id": "ca0e9b5f-ec4e-4b42-a656-37dbb5251463",
   "metadata": {},
   "outputs": [],
   "source": []
  }
 ],
 "metadata": {
  "kernelspec": {
   "display_name": "Python 3 (ipykernel)",
   "language": "python",
   "name": "python3"
  },
  "language_info": {
   "codemirror_mode": {
    "name": "ipython",
    "version": 3
   },
   "file_extension": ".py",
   "mimetype": "text/x-python",
   "name": "python",
   "nbconvert_exporter": "python",
   "pygments_lexer": "ipython3",
   "version": "3.13.3"
  }
 },
 "nbformat": 4,
 "nbformat_minor": 5
}
